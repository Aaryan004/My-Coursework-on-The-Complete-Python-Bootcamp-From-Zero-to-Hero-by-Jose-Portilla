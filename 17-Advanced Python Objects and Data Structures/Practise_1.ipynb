{
 "cells": [
  {
   "cell_type": "code",
   "execution_count": 24,
   "id": "e32b2b92",
   "metadata": {},
   "outputs": [],
   "source": [
    "#Numbers"
   ]
  },
  {
   "cell_type": "code",
   "execution_count": 23,
   "id": "6cf901ac",
   "metadata": {},
   "outputs": [
    {
     "data": {
      "text/plain": [
       "'0xc'"
      ]
     },
     "execution_count": 23,
     "metadata": {},
     "output_type": "execute_result"
    }
   ],
   "source": [
    "hex(12)"
   ]
  },
  {
   "cell_type": "code",
   "execution_count": 12,
   "id": "20756fa0",
   "metadata": {},
   "outputs": [
    {
     "data": {
      "text/plain": [
       "'0x200'"
      ]
     },
     "execution_count": 12,
     "metadata": {},
     "output_type": "execute_result"
    }
   ],
   "source": [
    "hex(512)"
   ]
  },
  {
   "cell_type": "code",
   "execution_count": 13,
   "id": "f7e06bb5",
   "metadata": {},
   "outputs": [
    {
     "data": {
      "text/plain": [
       "'0b10'"
      ]
     },
     "execution_count": 13,
     "metadata": {},
     "output_type": "execute_result"
    }
   ],
   "source": [
    "bin(2)"
   ]
  },
  {
   "cell_type": "code",
   "execution_count": 14,
   "id": "31a67ae2",
   "metadata": {},
   "outputs": [
    {
     "data": {
      "text/plain": [
       "'0b1000'"
      ]
     },
     "execution_count": 14,
     "metadata": {},
     "output_type": "execute_result"
    }
   ],
   "source": [
    "bin(8)"
   ]
  },
  {
   "cell_type": "code",
   "execution_count": 17,
   "id": "a57ee2ca",
   "metadata": {},
   "outputs": [
    {
     "data": {
      "text/plain": [
       "81"
      ]
     },
     "execution_count": 17,
     "metadata": {},
     "output_type": "execute_result"
    }
   ],
   "source": [
    "pow(3,4)"
   ]
  },
  {
   "cell_type": "code",
   "execution_count": 18,
   "id": "4ff9959f",
   "metadata": {},
   "outputs": [
    {
     "data": {
      "text/plain": [
       "1"
      ]
     },
     "execution_count": 18,
     "metadata": {},
     "output_type": "execute_result"
    }
   ],
   "source": [
    "pow(3,4,5)\n",
    "#(3*4)%5"
   ]
  },
  {
   "cell_type": "code",
   "execution_count": 19,
   "id": "75ed6433",
   "metadata": {},
   "outputs": [
    {
     "data": {
      "text/plain": [
       "4.5"
      ]
     },
     "execution_count": 19,
     "metadata": {},
     "output_type": "execute_result"
    }
   ],
   "source": [
    "abs(-4.5)"
   ]
  },
  {
   "cell_type": "code",
   "execution_count": 20,
   "id": "beae7002",
   "metadata": {},
   "outputs": [
    {
     "data": {
      "text/plain": [
       "3"
      ]
     },
     "execution_count": 20,
     "metadata": {},
     "output_type": "execute_result"
    }
   ],
   "source": [
    "round(3.14)"
   ]
  },
  {
   "cell_type": "code",
   "execution_count": 22,
   "id": "21033e65",
   "metadata": {},
   "outputs": [
    {
     "data": {
      "text/plain": [
       "3.14243"
      ]
     },
     "execution_count": 22,
     "metadata": {},
     "output_type": "execute_result"
    }
   ],
   "source": [
    "round(3.14243234234,5)"
   ]
  },
  {
   "cell_type": "code",
   "execution_count": 25,
   "id": "1a47d5c5",
   "metadata": {},
   "outputs": [],
   "source": [
    "#Strings"
   ]
  },
  {
   "cell_type": "code",
   "execution_count": 26,
   "id": "e9633d90",
   "metadata": {},
   "outputs": [],
   "source": [
    "s=\"hello world.it is nice\""
   ]
  },
  {
   "cell_type": "code",
   "execution_count": 28,
   "id": "5b96eca9",
   "metadata": {},
   "outputs": [
    {
     "data": {
      "text/plain": [
       "'Hello world.it is nice'"
      ]
     },
     "execution_count": 28,
     "metadata": {},
     "output_type": "execute_result"
    }
   ],
   "source": [
    "#Only the first letter of string\n",
    "s.capitalize()"
   ]
  },
  {
   "cell_type": "code",
   "execution_count": 30,
   "id": "da30d5e1",
   "metadata": {},
   "outputs": [
    {
     "data": {
      "text/plain": [
       "'HELLO WORLD.IT IS NICE'"
      ]
     },
     "execution_count": 30,
     "metadata": {},
     "output_type": "execute_result"
    }
   ],
   "source": [
    "s.upper()"
   ]
  },
  {
   "cell_type": "code",
   "execution_count": 31,
   "id": "3e00c8af",
   "metadata": {},
   "outputs": [
    {
     "data": {
      "text/plain": [
       "'hello world.it is nice'"
      ]
     },
     "execution_count": 31,
     "metadata": {},
     "output_type": "execute_result"
    }
   ],
   "source": [
    "s.lower()"
   ]
  },
  {
   "cell_type": "code",
   "execution_count": 32,
   "id": "0ad5a55f",
   "metadata": {},
   "outputs": [
    {
     "data": {
      "text/plain": [
       "3"
      ]
     },
     "execution_count": 32,
     "metadata": {},
     "output_type": "execute_result"
    }
   ],
   "source": [
    "s.count('0')"
   ]
  },
  {
   "cell_type": "code",
   "execution_count": 33,
   "id": "54df0306",
   "metadata": {},
   "outputs": [
    {
     "data": {
      "text/plain": [
       "12"
      ]
     },
     "execution_count": 33,
     "metadata": {},
     "output_type": "execute_result"
    }
   ],
   "source": [
    "#Only the first appearance\n",
    "s.find('i')"
   ]
  },
  {
   "cell_type": "code",
   "execution_count": 39,
   "id": "d7c0486b",
   "metadata": {},
   "outputs": [
    {
     "name": "stdout",
     "output_type": "stream",
     "text": [
      "40\n"
     ]
    },
    {
     "data": {
      "text/plain": [
       "'YOUOUOUOUOuoouoououououououououuyyyyyrry'"
      ]
     },
     "execution_count": 39,
     "metadata": {},
     "output_type": "execute_result"
    }
   ],
   "source": [
    "s=\"YOUOUOUOUOuoouoououououououououuyyyyyrry\"\n",
    "print(len(s))\n",
    "s.center(20,'z')\n",
    "'''\n",
    "Centers the string using the character z and the length of resultant string will be 20 but if length of original string is more \n",
    "than specified number then no change happens\n",
    "\n",
    "'''             "
   ]
  },
  {
   "cell_type": "code",
   "execution_count": 40,
   "id": "6ee98752",
   "metadata": {},
   "outputs": [
    {
     "data": {
      "text/plain": [
       "'zzzzhello worldzzzzz'"
      ]
     },
     "execution_count": 40,
     "metadata": {},
     "output_type": "execute_result"
    }
   ],
   "source": [
    "s=\"hello world\"\n",
    "s.center(20,'z')"
   ]
  },
  {
   "cell_type": "code",
   "execution_count": 41,
   "id": "bd373593",
   "metadata": {},
   "outputs": [
    {
     "data": {
      "text/plain": [
       "'hello   world'"
      ]
     },
     "execution_count": 41,
     "metadata": {},
     "output_type": "execute_result"
    }
   ],
   "source": [
    "s=\"hello\\tworld\"\n",
    "s.expandtabs()#just shows the result without printing"
   ]
  },
  {
   "cell_type": "code",
   "execution_count": 45,
   "id": "566a449d",
   "metadata": {},
   "outputs": [
    {
     "data": {
      "text/plain": [
       "True"
      ]
     },
     "execution_count": 45,
     "metadata": {},
     "output_type": "execute_result"
    }
   ],
   "source": [
    "s=\"hello world\"#False as space is not alpha nor numeric\n",
    "s=\"hello12world\"#True\n",
    "s.isalnum()#checks if string contains only alphanumeric(alphabet and numeric)characters"
   ]
  },
  {
   "cell_type": "code",
   "execution_count": 48,
   "id": "856fe6ba",
   "metadata": {},
   "outputs": [
    {
     "data": {
      "text/plain": [
       "True"
      ]
     },
     "execution_count": 48,
     "metadata": {},
     "output_type": "execute_result"
    }
   ],
   "source": [
    "s.isalpha()#Only alphabets\n",
    "s=\"helloworld\"\n",
    "s.isalpha()"
   ]
  },
  {
   "cell_type": "code",
   "execution_count": 49,
   "id": "d638c6d2",
   "metadata": {},
   "outputs": [
    {
     "data": {
      "text/plain": [
       "True"
      ]
     },
     "execution_count": 49,
     "metadata": {},
     "output_type": "execute_result"
    }
   ],
   "source": [
    "s.islower()"
   ]
  },
  {
   "cell_type": "code",
   "execution_count": 50,
   "id": "b0bc8025",
   "metadata": {},
   "outputs": [
    {
     "data": {
      "text/plain": [
       "False"
      ]
     },
     "execution_count": 50,
     "metadata": {},
     "output_type": "execute_result"
    }
   ],
   "source": [
    "s.isupper()"
   ]
  },
  {
   "cell_type": "code",
   "execution_count": 52,
   "id": "a9cda82c",
   "metadata": {},
   "outputs": [
    {
     "data": {
      "text/plain": [
       "True"
      ]
     },
     "execution_count": 52,
     "metadata": {},
     "output_type": "execute_result"
    }
   ],
   "source": [
    "s=\"    \"\n",
    "s.isspace()#True if whole string is made up of ONLY white spaces"
   ]
  },
  {
   "cell_type": "code",
   "execution_count": 55,
   "id": "47a82467",
   "metadata": {},
   "outputs": [
    {
     "data": {
      "text/plain": [
       "True"
      ]
     },
     "execution_count": 55,
     "metadata": {},
     "output_type": "execute_result"
    }
   ],
   "source": [
    "s='Hello This Is A Title'\n",
    "s.istitle()#True if all lowercase alphabets follow an uppercase character"
   ]
  },
  {
   "cell_type": "code",
   "execution_count": 56,
   "id": "c108e14a",
   "metadata": {},
   "outputs": [
    {
     "data": {
      "text/plain": [
       "True"
      ]
     },
     "execution_count": 56,
     "metadata": {},
     "output_type": "execute_result"
    }
   ],
   "source": [
    "s.endswith('e')#What it ends with"
   ]
  },
  {
   "cell_type": "code",
   "execution_count": 70,
   "id": "af95323a",
   "metadata": {},
   "outputs": [
    {
     "name": "stdout",
     "output_type": "stream",
     "text": [
      "['h', 'h', 'hhh', 'hh', 'hhhh', 'h', 'h', 'h', 'h', 'hh', 'h', '']\n",
      "['hih', 'h', '', 'hhihihihih', 'ihi']\n"
     ]
    }
   ],
   "source": [
    "s=\"hihihhhihhihhhhihihihihihhihi\"\n",
    "print(s.split('i'))#Splits at every occurence of string i\n",
    "print(s.split('ihh'))#split input a string not just a character"
   ]
  },
  {
   "cell_type": "code",
   "execution_count": 74,
   "id": "dd549055",
   "metadata": {},
   "outputs": [
    {
     "name": "stdout",
     "output_type": "stream",
     "text": [
      "('h', 'i', 'hihhhihhihhhhihihihihihhihi')\n",
      "('hih', 'ihhh', 'ihhihhhhihihihihihhihi')\n"
     ]
    }
   ],
   "source": [
    "print(s.partition('i'))\n",
    "print(s.partition('ihhh'))\n",
    "#Inputs string,Separates at first occurence of separator and returns the string before it ,the separator and the string after it\n"
   ]
  },
  {
   "cell_type": "code",
   "execution_count": null,
   "id": "69263672",
   "metadata": {},
   "outputs": [],
   "source": []
  }
 ],
 "metadata": {
  "kernelspec": {
   "display_name": "Python 3 (ipykernel)",
   "language": "python",
   "name": "python3"
  },
  "language_info": {
   "codemirror_mode": {
    "name": "ipython",
    "version": 3
   },
   "file_extension": ".py",
   "mimetype": "text/x-python",
   "name": "python",
   "nbconvert_exporter": "python",
   "pygments_lexer": "ipython3",
   "version": "3.11.4"
  }
 },
 "nbformat": 4,
 "nbformat_minor": 5
}
