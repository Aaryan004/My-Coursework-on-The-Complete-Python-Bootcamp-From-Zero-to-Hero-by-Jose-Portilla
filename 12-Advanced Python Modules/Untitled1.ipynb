{
 "cells": [
  {
   "cell_type": "code",
   "execution_count": 1,
   "id": "fe98d4bb",
   "metadata": {},
   "outputs": [
    {
     "data": {
      "text/plain": [
       "'C:\\\\Users\\\\Aaryan Naithani\\\\OneDrive\\\\Desktop\\\\Python Bootcamp\\\\Complete-Python-3-Bootcamp-master\\\\12-Advanced Python Modules'"
      ]
     },
     "execution_count": 1,
     "metadata": {},
     "output_type": "execute_result"
    }
   ],
   "source": [
    "pwd"
   ]
  },
  {
   "cell_type": "code",
   "execution_count": 12,
   "id": "f8eb5c20",
   "metadata": {},
   "outputs": [],
   "source": [
    "p=open('fello.txt','w+')"
   ]
  },
  {
   "cell_type": "code",
   "execution_count": 13,
   "id": "fde08568",
   "metadata": {},
   "outputs": [
    {
     "data": {
      "text/plain": [
       "15"
      ]
     },
     "execution_count": 13,
     "metadata": {},
     "output_type": "execute_result"
    }
   ],
   "source": [
    "p.write('Hello my friend')\n"
   ]
  },
  {
   "cell_type": "code",
   "execution_count": 14,
   "id": "efd2810f",
   "metadata": {},
   "outputs": [
    {
     "data": {
      "text/plain": [
       "38"
      ]
     },
     "execution_count": 14,
     "metadata": {},
     "output_type": "execute_result"
    }
   ],
   "source": [
    "p.write('. It has been a long time. ')\n",
    "p.write('I hope you are well and in good health')"
   ]
  },
  {
   "cell_type": "code",
   "execution_count": 15,
   "id": "74074937",
   "metadata": {},
   "outputs": [],
   "source": [
    "p.close()"
   ]
  },
  {
   "cell_type": "code",
   "execution_count": 1,
   "id": "c82badb7",
   "metadata": {},
   "outputs": [],
   "source": [
    "import os"
   ]
  },
  {
   "cell_type": "code",
   "execution_count": 18,
   "id": "376442c6",
   "metadata": {},
   "outputs": [
    {
     "data": {
      "text/plain": [
       "'C:\\\\Users\\\\Aaryan Naithani\\\\OneDrive\\\\Desktop\\\\Python Bootcamp\\\\Complete-Python-3-Bootcamp-master\\\\12-Advanced Python Modules'"
      ]
     },
     "execution_count": 18,
     "metadata": {},
     "output_type": "execute_result"
    }
   ],
   "source": [
    "os.getcwd()"
   ]
  },
  {
   "cell_type": "code",
   "execution_count": 22,
   "id": "07c4458e",
   "metadata": {},
   "outputs": [
    {
     "data": {
      "text/plain": [
       "['Aaryan - Chrome.lnk',\n",
       " 'C++ Course',\n",
       " 'Class',\n",
       " 'CodeBlocks.lnk',\n",
       " 'desktop.ini',\n",
       " 'Home',\n",
       " 'HTML',\n",
       " 'ID',\n",
       " 'Java',\n",
       " 'Microsoft Edge.lnk',\n",
       " 'Outlook (PWA).lnk',\n",
       " 'Python and Jupyter',\n",
       " 'Python Bootcamp',\n",
       " 'Visual Studio Code.lnk',\n",
       " 'Zoom.lnk']"
      ]
     },
     "execution_count": 22,
     "metadata": {},
     "output_type": "execute_result"
    }
   ],
   "source": [
    "os.listdir('C:\\\\Users\\\\Aaryan Naithani\\\\OneDrive\\\\Desktop')"
   ]
  },
  {
   "cell_type": "code",
   "execution_count": 23,
   "id": "b6645b7e",
   "metadata": {},
   "outputs": [],
   "source": [
    "import shutil"
   ]
  },
  {
   "cell_type": "code",
   "execution_count": 24,
   "id": "50166f6c",
   "metadata": {},
   "outputs": [
    {
     "data": {
      "text/plain": [
       "'C:\\\\Users\\\\Aaryan Naithani\\\\OneDrive\\\\Desktop\\\\HTML\\\\fello.txt'"
      ]
     },
     "execution_count": 24,
     "metadata": {},
     "output_type": "execute_result"
    }
   ],
   "source": [
    "shutil.move('fello.txt','C:\\\\Users\\\\Aaryan Naithani\\\\OneDrive\\\\Desktop\\\\HTML')"
   ]
  },
  {
   "cell_type": "code",
   "execution_count": 25,
   "id": "54ba04b1",
   "metadata": {},
   "outputs": [],
   "source": [
    "import send2trash"
   ]
  },
  {
   "cell_type": "code",
   "execution_count": 26,
   "id": "86826d3c",
   "metadata": {},
   "outputs": [],
   "source": [
    "send2trash.send2trash('C:\\\\Users\\\\Aaryan Naithani\\\\OneDrive\\\\Desktop\\\\HTML\\\\fello.txt')"
   ]
  },
  {
   "cell_type": "code",
   "execution_count": 27,
   "id": "9cf1ff82",
   "metadata": {
    "scrolled": true
   },
   "outputs": [
    {
     "data": {
      "text/plain": [
       "['index.html',\n",
       " 'index2.html',\n",
       " 'Netflix_Sign_in_clone.html',\n",
       " 'Screenshot 2023-10-26 224208.png',\n",
       " 'SIP.html',\n",
       " 'SIP.js',\n",
       " 'style.css',\n",
       " 'style2.css',\n",
       " 'style3.css']"
      ]
     },
     "execution_count": 27,
     "metadata": {},
     "output_type": "execute_result"
    }
   ],
   "source": [
    "os.listdir('C:\\\\Users\\\\Aaryan Naithani\\\\OneDrive\\\\Desktop\\\\HTML')"
   ]
  },
  {
   "cell_type": "code",
   "execution_count": 2,
   "id": "2f4ddc63",
   "metadata": {},
   "outputs": [
    {
     "name": "stdout",
     "output_type": "stream",
     "text": [
      "Absolute path of the file: C:\\Users\\Aaryan Naithani\\OneDrive\\Desktop\\Python Bootcamp\\Complete-Python-3-Bootcamp-master\\12-Advanced Python Modules\\fello.txt\n"
     ]
    }
   ],
   "source": [
    "import os\n",
    "\n",
    "file_name = 'fello.txt'\n",
    "\n",
    "file_path = os.path.abspath(file_name)\n",
    "\n",
    "print(\"Absolute path of the file:\", file_path)\n"
   ]
  },
  {
   "cell_type": "code",
   "execution_count": 8,
   "id": "0f3a97bd",
   "metadata": {},
   "outputs": [
    {
     "name": "stdout",
     "output_type": "stream",
     "text": [
      "Current folder is Example_Top_level \n",
      "\n",
      "Mid-Example-One\n",
      "\n",
      "\n",
      "Mid-Example.txt \n",
      "\n",
      "\n",
      "Current folder is Example_Top_level\\Mid-Example-One \n",
      "\n",
      "Bottom-Level-One\n",
      "\n",
      "\n",
      "Bottom-Level-Two\n",
      "\n",
      "\n",
      "Mid-Level-Doc.txt \n",
      "\n",
      "\n",
      "Current folder is Example_Top_level\\Mid-Example-One\\Bottom-Level-One \n",
      "\n",
      "One_Text.txt \n",
      "\n",
      "\n",
      "Current folder is Example_Top_level\\Mid-Example-One\\Bottom-Level-Two \n",
      "\n",
      "Bottom-Text-Two.txt \n",
      "\n",
      "\n"
     ]
    }
   ],
   "source": [
    "for folders, subfolders, files in os.walk(\"Example_Top_level\"):\n",
    "    print(f'Current folder is {folders} \\n') \n",
    "    for subfolder in subfolders:\n",
    "        print(f'{subfolder}')\n",
    "        print('\\n')\n",
    "        pass\n",
    "    for file in files:\n",
    "        print(f'{file} ')\n",
    "        print('\\n')\n",
    "        pass"
   ]
  },
  {
   "cell_type": "code",
   "execution_count": 2,
   "id": "b141df92",
   "metadata": {},
   "outputs": [],
   "source": [
    "import datetime"
   ]
  },
  {
   "cell_type": "code",
   "execution_count": 3,
   "id": "c6168528",
   "metadata": {},
   "outputs": [
    {
     "name": "stdout",
     "output_type": "stream",
     "text": [
      "11\n"
     ]
    }
   ],
   "source": [
    "today=datetime.date.today()\n",
    "print(today.month)"
   ]
  },
  {
   "cell_type": "code",
   "execution_count": 7,
   "id": "faf5465f",
   "metadata": {},
   "outputs": [
    {
     "data": {
      "text/plain": [
       "time.struct_time(tm_year=2023, tm_mon=11, tm_mday=6, tm_hour=0, tm_min=0, tm_sec=0, tm_wday=0, tm_yday=310, tm_isdst=-1)"
      ]
     },
     "execution_count": 7,
     "metadata": {},
     "output_type": "execute_result"
    }
   ],
   "source": [
    "today.timetuple()"
   ]
  },
  {
   "cell_type": "code",
   "execution_count": 35,
   "id": "72d7ad24",
   "metadata": {},
   "outputs": [
    {
     "name": "stdout",
     "output_type": "stream",
     "text": [
      "1404-11-20 00:00:00\n",
      "0\n",
      "0\n",
      "0\n"
     ]
    }
   ],
   "source": [
    "from datetime import datetime\n",
    "mytime=datetime(1404,11,20)\n",
    "print(mytime)\n",
    "print(mytime.hour)\n",
    "print(mytime.minute)\n",
    "print(mytime.second)"
   ]
  },
  {
   "cell_type": "code",
   "execution_count": 37,
   "id": "8b739355",
   "metadata": {},
   "outputs": [
    {
     "data": {
      "text/plain": [
       "datetime.datetime(1404, 11, 20, 19, 0)"
      ]
     },
     "execution_count": 37,
     "metadata": {},
     "output_type": "execute_result"
    }
   ],
   "source": [
    "mytime.replace(hour=19)"
   ]
  },
  {
   "cell_type": "code",
   "execution_count": 55,
   "id": "313dffb9",
   "metadata": {},
   "outputs": [],
   "source": [
    "d1=datetime(1990,11,20,14,56,45)\n",
    "d2=datetime(2015,12,15,23,44,56)"
   ]
  },
  {
   "cell_type": "code",
   "execution_count": 56,
   "id": "8be2940b",
   "metadata": {},
   "outputs": [],
   "source": [
    "result=d2-d1"
   ]
  },
  {
   "cell_type": "code",
   "execution_count": 60,
   "id": "e960f16d",
   "metadata": {},
   "outputs": [
    {
     "data": {
      "text/plain": [
       "datetime.timedelta(microseconds=1)"
      ]
     },
     "execution_count": 60,
     "metadata": {},
     "output_type": "execute_result"
    }
   ],
   "source": [
    "result.resolution"
   ]
  },
  {
   "cell_type": "code",
   "execution_count": 12,
   "id": "a3803e4e",
   "metadata": {},
   "outputs": [],
   "source": [
    "import math"
   ]
  },
  {
   "cell_type": "code",
   "execution_count": 13,
   "id": "b44ed895",
   "metadata": {},
   "outputs": [
    {
     "name": "stdout",
     "output_type": "stream",
     "text": [
      "Help on built-in module math:\n",
      "\n",
      "NAME\n",
      "    math\n",
      "\n",
      "DESCRIPTION\n",
      "    This module provides access to the mathematical functions\n",
      "    defined by the C standard.\n",
      "\n",
      "FUNCTIONS\n",
      "    acos(x, /)\n",
      "        Return the arc cosine (measured in radians) of x.\n",
      "        \n",
      "        The result is between 0 and pi.\n",
      "    \n",
      "    acosh(x, /)\n",
      "        Return the inverse hyperbolic cosine of x.\n",
      "    \n",
      "    asin(x, /)\n",
      "        Return the arc sine (measured in radians) of x.\n",
      "        \n",
      "        The result is between -pi/2 and pi/2.\n",
      "    \n",
      "    asinh(x, /)\n",
      "        Return the inverse hyperbolic sine of x.\n",
      "    \n",
      "    atan(x, /)\n",
      "        Return the arc tangent (measured in radians) of x.\n",
      "        \n",
      "        The result is between -pi/2 and pi/2.\n",
      "    \n",
      "    atan2(y, x, /)\n",
      "        Return the arc tangent (measured in radians) of y/x.\n",
      "        \n",
      "        Unlike atan(y/x), the signs of both x and y are considered.\n",
      "    \n",
      "    atanh(x, /)\n",
      "        Return the inverse hyperbolic tangent of x.\n",
      "    \n",
      "    cbrt(x, /)\n",
      "        Return the cube root of x.\n",
      "    \n",
      "    ceil(x, /)\n",
      "        Return the ceiling of x as an Integral.\n",
      "        \n",
      "        This is the smallest integer >= x.\n",
      "    \n",
      "    comb(n, k, /)\n",
      "        Number of ways to choose k items from n items without repetition and without order.\n",
      "        \n",
      "        Evaluates to n! / (k! * (n - k)!) when k <= n and evaluates\n",
      "        to zero when k > n.\n",
      "        \n",
      "        Also called the binomial coefficient because it is equivalent\n",
      "        to the coefficient of k-th term in polynomial expansion of the\n",
      "        expression (1 + x)**n.\n",
      "        \n",
      "        Raises TypeError if either of the arguments are not integers.\n",
      "        Raises ValueError if either of the arguments are negative.\n",
      "    \n",
      "    copysign(x, y, /)\n",
      "        Return a float with the magnitude (absolute value) of x but the sign of y.\n",
      "        \n",
      "        On platforms that support signed zeros, copysign(1.0, -0.0)\n",
      "        returns -1.0.\n",
      "    \n",
      "    cos(x, /)\n",
      "        Return the cosine of x (measured in radians).\n",
      "    \n",
      "    cosh(x, /)\n",
      "        Return the hyperbolic cosine of x.\n",
      "    \n",
      "    degrees(x, /)\n",
      "        Convert angle x from radians to degrees.\n",
      "    \n",
      "    dist(p, q, /)\n",
      "        Return the Euclidean distance between two points p and q.\n",
      "        \n",
      "        The points should be specified as sequences (or iterables) of\n",
      "        coordinates.  Both inputs must have the same dimension.\n",
      "        \n",
      "        Roughly equivalent to:\n",
      "            sqrt(sum((px - qx) ** 2.0 for px, qx in zip(p, q)))\n",
      "    \n",
      "    erf(x, /)\n",
      "        Error function at x.\n",
      "    \n",
      "    erfc(x, /)\n",
      "        Complementary error function at x.\n",
      "    \n",
      "    exp(x, /)\n",
      "        Return e raised to the power of x.\n",
      "    \n",
      "    exp2(x, /)\n",
      "        Return 2 raised to the power of x.\n",
      "    \n",
      "    expm1(x, /)\n",
      "        Return exp(x)-1.\n",
      "        \n",
      "        This function avoids the loss of precision involved in the direct evaluation of exp(x)-1 for small x.\n",
      "    \n",
      "    fabs(x, /)\n",
      "        Return the absolute value of the float x.\n",
      "    \n",
      "    factorial(n, /)\n",
      "        Find n!.\n",
      "        \n",
      "        Raise a ValueError if x is negative or non-integral.\n",
      "    \n",
      "    floor(x, /)\n",
      "        Return the floor of x as an Integral.\n",
      "        \n",
      "        This is the largest integer <= x.\n",
      "    \n",
      "    fmod(x, y, /)\n",
      "        Return fmod(x, y), according to platform C.\n",
      "        \n",
      "        x % y may differ.\n",
      "    \n",
      "    frexp(x, /)\n",
      "        Return the mantissa and exponent of x, as pair (m, e).\n",
      "        \n",
      "        m is a float and e is an int, such that x = m * 2.**e.\n",
      "        If x is 0, m and e are both 0.  Else 0.5 <= abs(m) < 1.0.\n",
      "    \n",
      "    fsum(seq, /)\n",
      "        Return an accurate floating point sum of values in the iterable seq.\n",
      "        \n",
      "        Assumes IEEE-754 floating point arithmetic.\n",
      "    \n",
      "    gamma(x, /)\n",
      "        Gamma function at x.\n",
      "    \n",
      "    gcd(*integers)\n",
      "        Greatest Common Divisor.\n",
      "    \n",
      "    hypot(...)\n",
      "        hypot(*coordinates) -> value\n",
      "        \n",
      "        Multidimensional Euclidean distance from the origin to a point.\n",
      "        \n",
      "        Roughly equivalent to:\n",
      "            sqrt(sum(x**2 for x in coordinates))\n",
      "        \n",
      "        For a two dimensional point (x, y), gives the hypotenuse\n",
      "        using the Pythagorean theorem:  sqrt(x*x + y*y).\n",
      "        \n",
      "        For example, the hypotenuse of a 3/4/5 right triangle is:\n",
      "        \n",
      "            >>> hypot(3.0, 4.0)\n",
      "            5.0\n",
      "    \n",
      "    isclose(a, b, *, rel_tol=1e-09, abs_tol=0.0)\n",
      "        Determine whether two floating point numbers are close in value.\n",
      "        \n",
      "          rel_tol\n",
      "            maximum difference for being considered \"close\", relative to the\n",
      "            magnitude of the input values\n",
      "          abs_tol\n",
      "            maximum difference for being considered \"close\", regardless of the\n",
      "            magnitude of the input values\n",
      "        \n",
      "        Return True if a is close in value to b, and False otherwise.\n",
      "        \n",
      "        For the values to be considered close, the difference between them\n",
      "        must be smaller than at least one of the tolerances.\n",
      "        \n",
      "        -inf, inf and NaN behave similarly to the IEEE 754 Standard.  That\n",
      "        is, NaN is not close to anything, even itself.  inf and -inf are\n",
      "        only close to themselves.\n",
      "    \n",
      "    isfinite(x, /)\n",
      "        Return True if x is neither an infinity nor a NaN, and False otherwise.\n",
      "    \n",
      "    isinf(x, /)\n",
      "        Return True if x is a positive or negative infinity, and False otherwise.\n",
      "    \n",
      "    isnan(x, /)\n",
      "        Return True if x is a NaN (not a number), and False otherwise.\n",
      "    \n",
      "    isqrt(n, /)\n",
      "        Return the integer part of the square root of the input.\n",
      "    \n",
      "    lcm(*integers)\n",
      "        Least Common Multiple.\n",
      "    \n",
      "    ldexp(x, i, /)\n",
      "        Return x * (2**i).\n",
      "        \n",
      "        This is essentially the inverse of frexp().\n",
      "    \n",
      "    lgamma(x, /)\n",
      "        Natural logarithm of absolute value of Gamma function at x.\n",
      "    \n",
      "    log(...)\n",
      "        log(x, [base=math.e])\n",
      "        Return the logarithm of x to the given base.\n",
      "        \n",
      "        If the base not specified, returns the natural logarithm (base e) of x.\n",
      "    \n",
      "    log10(x, /)\n",
      "        Return the base 10 logarithm of x.\n",
      "    \n",
      "    log1p(x, /)\n",
      "        Return the natural logarithm of 1+x (base e).\n",
      "        \n",
      "        The result is computed in a way which is accurate for x near zero.\n",
      "    \n",
      "    log2(x, /)\n",
      "        Return the base 2 logarithm of x.\n",
      "    \n",
      "    modf(x, /)\n",
      "        Return the fractional and integer parts of x.\n",
      "        \n",
      "        Both results carry the sign of x and are floats.\n",
      "    \n",
      "    nextafter(x, y, /)\n",
      "        Return the next floating-point value after x towards y.\n",
      "    \n",
      "    perm(n, k=None, /)\n",
      "        Number of ways to choose k items from n items without repetition and with order.\n",
      "        \n",
      "        Evaluates to n! / (n - k)! when k <= n and evaluates\n",
      "        to zero when k > n.\n",
      "        \n",
      "        If k is not specified or is None, then k defaults to n\n",
      "        and the function returns n!.\n",
      "        \n",
      "        Raises TypeError if either of the arguments are not integers.\n",
      "        Raises ValueError if either of the arguments are negative.\n",
      "    \n",
      "    pow(x, y, /)\n",
      "        Return x**y (x to the power of y).\n",
      "    \n",
      "    prod(iterable, /, *, start=1)\n",
      "        Calculate the product of all the elements in the input iterable.\n",
      "        \n",
      "        The default start value for the product is 1.\n",
      "        \n",
      "        When the iterable is empty, return the start value.  This function is\n",
      "        intended specifically for use with numeric values and may reject\n",
      "        non-numeric types.\n",
      "    \n",
      "    radians(x, /)\n",
      "        Convert angle x from degrees to radians.\n",
      "    \n",
      "    remainder(x, y, /)\n",
      "        Difference between x and the closest integer multiple of y.\n",
      "        \n",
      "        Return x - n*y where n*y is the closest integer multiple of y.\n",
      "        In the case where x is exactly halfway between two multiples of\n",
      "        y, the nearest even value of n is used. The result is always exact.\n",
      "    \n",
      "    sin(x, /)\n",
      "        Return the sine of x (measured in radians).\n",
      "    \n",
      "    sinh(x, /)\n",
      "        Return the hyperbolic sine of x.\n",
      "    \n",
      "    sqrt(x, /)\n",
      "        Return the square root of x.\n",
      "    \n",
      "    tan(x, /)\n",
      "        Return the tangent of x (measured in radians).\n",
      "    \n",
      "    tanh(x, /)\n",
      "        Return the hyperbolic tangent of x.\n",
      "    \n",
      "    trunc(x, /)\n",
      "        Truncates the Real x to the nearest Integral toward 0.\n",
      "        \n",
      "        Uses the __trunc__ magic method.\n",
      "    \n",
      "    ulp(x, /)\n",
      "        Return the value of the least significant bit of the float x.\n",
      "\n",
      "DATA\n",
      "    e = 2.718281828459045\n",
      "    inf = inf\n",
      "    nan = nan\n",
      "    pi = 3.141592653589793\n",
      "    tau = 6.283185307179586\n",
      "\n",
      "FILE\n",
      "    (built-in)\n",
      "\n",
      "\n"
     ]
    }
   ],
   "source": [
    "help(math)"
   ]
  },
  {
   "cell_type": "code",
   "execution_count": 14,
   "id": "9f3e188d",
   "metadata": {},
   "outputs": [
    {
     "data": {
      "text/plain": [
       "8.0"
      ]
     },
     "execution_count": 14,
     "metadata": {},
     "output_type": "execute_result"
    }
   ],
   "source": [
    "math.exp2(3)"
   ]
  },
  {
   "cell_type": "code",
   "execution_count": 15,
   "id": "6a5b4569",
   "metadata": {},
   "outputs": [],
   "source": [
    "value=4.35"
   ]
  },
  {
   "cell_type": "code",
   "execution_count": 16,
   "id": "e9d8751f",
   "metadata": {},
   "outputs": [
    {
     "data": {
      "text/plain": [
       "4"
      ]
     },
     "execution_count": 16,
     "metadata": {},
     "output_type": "execute_result"
    }
   ],
   "source": [
    "math.floor(value)"
   ]
  },
  {
   "cell_type": "code",
   "execution_count": 17,
   "id": "84b9209d",
   "metadata": {},
   "outputs": [
    {
     "data": {
      "text/plain": [
       "4"
      ]
     },
     "execution_count": 17,
     "metadata": {},
     "output_type": "execute_result"
    }
   ],
   "source": [
    "math.ceil(3.5)"
   ]
  },
  {
   "cell_type": "code",
   "execution_count": 18,
   "id": "48f90d29",
   "metadata": {},
   "outputs": [
    {
     "data": {
      "text/plain": [
       "8"
      ]
     },
     "execution_count": 18,
     "metadata": {},
     "output_type": "execute_result"
    }
   ],
   "source": [
    "round(7.5)"
   ]
  },
  {
   "cell_type": "code",
   "execution_count": 19,
   "id": "998a8a8a",
   "metadata": {},
   "outputs": [
    {
     "data": {
      "text/plain": [
       "6.283185307179586"
      ]
     },
     "execution_count": 19,
     "metadata": {},
     "output_type": "execute_result"
    }
   ],
   "source": [
    "math.tau"
   ]
  },
  {
   "cell_type": "code",
   "execution_count": 20,
   "id": "164567fc",
   "metadata": {},
   "outputs": [
    {
     "data": {
      "text/plain": [
       "3.141592653589793"
      ]
     },
     "execution_count": 20,
     "metadata": {},
     "output_type": "execute_result"
    }
   ],
   "source": [
    "math.pi"
   ]
  },
  {
   "cell_type": "code",
   "execution_count": 21,
   "id": "479aae4a",
   "metadata": {},
   "outputs": [
    {
     "data": {
      "text/plain": [
       "2.718281828459045"
      ]
     },
     "execution_count": 21,
     "metadata": {},
     "output_type": "execute_result"
    }
   ],
   "source": [
    "math.e\n"
   ]
  },
  {
   "cell_type": "code",
   "execution_count": 22,
   "id": "74c14f95",
   "metadata": {},
   "outputs": [
    {
     "data": {
      "text/plain": [
       "10.0"
      ]
     },
     "execution_count": 22,
     "metadata": {},
     "output_type": "execute_result"
    }
   ],
   "source": [
    "math.log(1024,2)"
   ]
  },
  {
   "cell_type": "code",
   "execution_count": 23,
   "id": "d1472f3a",
   "metadata": {},
   "outputs": [
    {
     "data": {
      "text/plain": [
       "1.0"
      ]
     },
     "execution_count": 23,
     "metadata": {},
     "output_type": "execute_result"
    }
   ],
   "source": [
    "from math import pi\n",
    "from math import degrees\n",
    "from math import radians\n",
    "math.sin(math.pi/2)"
   ]
  },
  {
   "cell_type": "code",
   "execution_count": 24,
   "id": "6906fadc",
   "metadata": {},
   "outputs": [
    {
     "data": {
      "text/plain": [
       "0.49999999999999994"
      ]
     },
     "execution_count": 24,
     "metadata": {},
     "output_type": "execute_result"
    }
   ],
   "source": [
    "math.sin(radians(30))"
   ]
  },
  {
   "cell_type": "code",
   "execution_count": 25,
   "id": "5a850e78",
   "metadata": {},
   "outputs": [],
   "source": [
    "import random"
   ]
  },
  {
   "cell_type": "code",
   "execution_count": 26,
   "id": "420d6a73",
   "metadata": {},
   "outputs": [
    {
     "data": {
      "text/plain": [
       "1201"
      ]
     },
     "execution_count": 26,
     "metadata": {},
     "output_type": "execute_result"
    }
   ],
   "source": [
    "random.seed(2001)\n",
    "random.randint(0,2000)"
   ]
  },
  {
   "cell_type": "code",
   "execution_count": 27,
   "id": "0cd3760a",
   "metadata": {},
   "outputs": [
    {
     "data": {
      "text/plain": [
       "44"
      ]
     },
     "execution_count": 27,
     "metadata": {},
     "output_type": "execute_result"
    }
   ],
   "source": [
    "random.randint(0,2000)"
   ]
  },
  {
   "cell_type": "code",
   "execution_count": 28,
   "id": "3c3de889",
   "metadata": {},
   "outputs": [
    {
     "name": "stdout",
     "output_type": "stream",
     "text": [
      "1201\n",
      "44\n",
      "742\n",
      "1645\n",
      "107\n",
      "177\n",
      "1333\n",
      "1231\n",
      "1946\n",
      "1643\n"
     ]
    }
   ],
   "source": [
    "random.seed(2001)\n",
    "print(random.randint(0,2000))\n",
    "print(random.randint(0,2000))\n",
    "print(random.randint(0,2000))\n",
    "print(random.randint(0,2000))\n",
    "print(random.randint(0,2000))\n",
    "print(random.randint(0,2000))\n",
    "print(random.randint(0,2000))\n",
    "print(random.randint(0,2000))\n",
    "print(random.randint(0,2000))\n",
    "print(random.randint(0,2000))\n",
    "\n"
   ]
  },
  {
   "cell_type": "code",
   "execution_count": 29,
   "id": "a85bf923",
   "metadata": {},
   "outputs": [],
   "source": [
    "mylist=list(range(0,100))"
   ]
  },
  {
   "cell_type": "code",
   "execution_count": 30,
   "id": "f83bc374",
   "metadata": {},
   "outputs": [
    {
     "name": "stdout",
     "output_type": "stream",
     "text": [
      "[0, 1, 2, 3, 4, 5, 6, 7, 8, 9, 10, 11, 12, 13, 14, 15, 16, 17, 18, 19, 20, 21, 22, 23, 24, 25, 26, 27, 28, 29, 30, 31, 32, 33, 34, 35, 36, 37, 38, 39, 40, 41, 42, 43, 44, 45, 46, 47, 48, 49, 50, 51, 52, 53, 54, 55, 56, 57, 58, 59, 60, 61, 62, 63, 64, 65, 66, 67, 68, 69, 70, 71, 72, 73, 74, 75, 76, 77, 78, 79, 80, 81, 82, 83, 84, 85, 86, 87, 88, 89, 90, 91, 92, 93, 94, 95, 96, 97, 98, 99]\n"
     ]
    }
   ],
   "source": [
    "print(mylist)"
   ]
  },
  {
   "cell_type": "code",
   "execution_count": 128,
   "id": "15f9022c",
   "metadata": {},
   "outputs": [
    {
     "data": {
      "text/plain": [
       "89"
      ]
     },
     "execution_count": 128,
     "metadata": {},
     "output_type": "execute_result"
    }
   ],
   "source": [
    "random.choice(mylist)"
   ]
  },
  {
   "cell_type": "code",
   "execution_count": 139,
   "id": "7abbb4bc",
   "metadata": {},
   "outputs": [
    {
     "data": {
      "text/plain": [
       "[4, 20, 70, 14, 86, 26, 1, 43, 16, 1, 27, 45, 19, 85, 30, 70, 35, 10, 43, 68]"
      ]
     },
     "execution_count": 139,
     "metadata": {},
     "output_type": "execute_result"
    }
   ],
   "source": [
    "random.seed(200)\n",
    "random.choices(population=mylist,k=20)"
   ]
  },
  {
   "cell_type": "code",
   "execution_count": 136,
   "id": "3914a6db",
   "metadata": {},
   "outputs": [
    {
     "data": {
      "text/plain": [
       "[18, 58, 98, 22, 90, 50, 93, 44, 55, 64, 14, 68, 15, 10, 94, 33, 6, 84, 82, 26]"
      ]
     },
     "execution_count": 136,
     "metadata": {},
     "output_type": "execute_result"
    }
   ],
   "source": [
    "random.seed(100)\n",
    "random.sample(population=mylist,k=20)"
   ]
  },
  {
   "cell_type": "code",
   "execution_count": 141,
   "id": "99bf9ff0",
   "metadata": {},
   "outputs": [],
   "source": [
    "random.shuffle(mylist)"
   ]
  },
  {
   "cell_type": "code",
   "execution_count": 148,
   "id": "6acb1a89",
   "metadata": {},
   "outputs": [
    {
     "data": {
      "text/plain": [
       "19.47544955341367"
      ]
     },
     "execution_count": 148,
     "metadata": {},
     "output_type": "execute_result"
    }
   ],
   "source": [
    "random.uniform(0,100)"
   ]
  },
  {
   "cell_type": "code",
   "execution_count": 161,
   "id": "b2adf0dd",
   "metadata": {},
   "outputs": [
    {
     "data": {
      "text/plain": [
       "25.0"
      ]
     },
     "execution_count": 161,
     "metadata": {},
     "output_type": "execute_result"
    }
   ],
   "source": [
    "random.gauss(mu=25,sigma=0)"
   ]
  },
  {
   "cell_type": "code",
   "execution_count": 3,
   "id": "e38bcd4e",
   "metadata": {},
   "outputs": [
    {
     "data": {
      "text/plain": [
       "44.97881377299998"
      ]
     },
     "execution_count": 3,
     "metadata": {},
     "output_type": "execute_result"
    }
   ],
   "source": [
    "import random\n",
    "random.gauss(mu=45, sigma=0.1)"
   ]
  },
  {
   "cell_type": "code",
   "execution_count": 31,
   "id": "a59655e0",
   "metadata": {},
   "outputs": [],
   "source": [
    "import pdb\n",
    "x=[1,2,3]\n",
    "y=4\n",
    "z=5"
   ]
  },
  {
   "cell_type": "code",
   "execution_count": null,
   "id": "b5830416",
   "metadata": {},
   "outputs": [
    {
     "name": "stdout",
     "output_type": "stream",
     "text": [
      "--Return--\n",
      "None\n",
      "> \u001b[1;32mc:\\users\\aaryan naithani\\appdata\\local\\temp\\ipykernel_10044\\2775726564.py\u001b[0m(1)\u001b[0;36m<module>\u001b[1;34m()\u001b[0m\n",
      "\n",
      "ipdb> x\n",
      "[1, 2, 3]\n",
      "ipdb> y\n",
      "4\n",
      "ipdb> z\n",
      "5\n",
      "ipdb> x+y\n",
      "*** TypeError: can only concatenate list (not \"int\") to list\n"
     ]
    }
   ],
   "source": [
    "pdb.set_trace()\n",
    "result=x+y\n"
   ]
  },
  {
   "cell_type": "code",
   "execution_count": null,
   "id": "1d7f8449",
   "metadata": {},
   "outputs": [],
   "source": []
  }
 ],
 "metadata": {
  "kernelspec": {
   "display_name": "Python 3 (ipykernel)",
   "language": "python",
   "name": "python3"
  },
  "language_info": {
   "codemirror_mode": {
    "name": "ipython",
    "version": 3
   },
   "file_extension": ".py",
   "mimetype": "text/x-python",
   "name": "python",
   "nbconvert_exporter": "python",
   "pygments_lexer": "ipython3",
   "version": "3.11.4"
  }
 },
 "nbformat": 4,
 "nbformat_minor": 5
}
