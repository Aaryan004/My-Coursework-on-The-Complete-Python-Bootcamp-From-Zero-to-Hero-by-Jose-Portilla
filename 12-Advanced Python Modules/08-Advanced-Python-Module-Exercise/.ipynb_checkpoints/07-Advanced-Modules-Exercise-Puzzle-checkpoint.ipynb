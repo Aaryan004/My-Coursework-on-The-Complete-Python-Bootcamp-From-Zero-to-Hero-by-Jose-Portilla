{
 "cells": [
  {
   "cell_type": "markdown",
   "metadata": {},
   "source": [
    "___\n",
    "\n",
    "<a href='https://www.udemy.com/user/joseportilla/'><img src='../../Pierian_Data_Logo.png'/></a>\n",
    "___\n",
    "<center><em>Content Copyright by Pierian Data</em></center>"
   ]
  },
  {
   "cell_type": "markdown",
   "metadata": {},
   "source": [
    "# Advanced Modules Exercise Puzzle\n",
    "\n",
    "It's time to test your new skills, this puzzle project will combine multiple skills sets, including unzipping files with Python, using os module to automatically search through lots of files.\n",
    "\n",
    "## Your Goal\n",
    "\n",
    "This is a puzzle, so we don't want to give you too much guidance and instead have you figure out things on your own.\n",
    "\n",
    "There is a .zip file called 'unzip_me_for_instructions.zip', unzip it, open the .txt file with Python, read the instructions and see if you can figure out what you need to do!\n",
    "\n",
    "**If you get stuck or don't know where to start, here is a [guide/hints](https://docs.google.com/document/d/1JxydUr4n4fSR0EwwuwT-aHia-yPK6r-oTBuVT2sqheo/edit?usp=sharing)**"
   ]
  },
  {
   "cell_type": "code",
   "execution_count": 1,
   "metadata": {},
   "outputs": [
    {
     "data": {
      "text/plain": [
       "'C:\\\\Users\\\\Aaryan Naithani\\\\OneDrive\\\\Desktop\\\\Python Bootcamp\\\\Complete-Python-3-Bootcamp-master\\\\12-Advanced Python Modules\\\\08-Advanced-Python-Module-Exercise'"
      ]
     },
     "execution_count": 1,
     "metadata": {},
     "output_type": "execute_result"
    }
   ],
   "source": [
    "pwd"
   ]
  },
  {
   "cell_type": "code",
   "execution_count": 2,
   "metadata": {},
   "outputs": [],
   "source": [
    "import shutil\n",
    "import os\n",
    "import re"
   ]
  },
  {
   "cell_type": "code",
   "execution_count": 3,
   "metadata": {},
   "outputs": [],
   "source": [
    "shutil.unpack_archive('unzip_me_for_instructions.zip','Instructions',)"
   ]
  },
  {
   "cell_type": "code",
   "execution_count": 4,
   "metadata": {},
   "outputs": [],
   "source": [
    "dir1='C:\\\\Users\\\\Aaryan Naithani\\\\OneDrive\\\\Desktop\\\\Python Bootcamp\\\\Complete-Python-3-Bootcamp-master\\\\12-Advanced Python Modules\\\\08-Advanced-Python-Module-Exercise\\\\Instructions\\\\extracted_content'"
   ]
  },
  {
   "cell_type": "code",
   "execution_count": 26,
   "metadata": {},
   "outputs": [],
   "source": [
    "results=[]\n",
    "for folder, sub_folders, files in os.walk(dir1):\n",
    "    for file in files:\n",
    "        file_path=os.path.join(folder,file)\n",
    "        if os.path.exists(file_path):\n",
    "            with open (file_path,'r') as f:\n",
    "                file_content=f.read()\n",
    "                match=re.search(r'\\d{3}-\\d{3}-\\d{4}',file_content)\n",
    "                if match:\n",
    "                    results.append(match)\n",
    "                else:\n",
    "                    results.append(\"No match\")\n",
    "        else:\n",
    "            print(f\"File not found {file_path}\")"
   ]
  },
  {
   "cell_type": "code",
   "execution_count": 29,
   "metadata": {},
   "outputs": [
    {
     "name": "stdout",
     "output_type": "stream",
     "text": [
      "719-266-2837\n"
     ]
    }
   ],
   "source": [
    "for r in results:\n",
    "    if r!= \"No match\":\n",
    "        print(r.group())"
   ]
  },
  {
   "cell_type": "markdown",
   "metadata": {},
   "source": [
    "This modified code uses os.path.join to create the full path to the file, and os.path.exists to check if the file exists before attempting to open it. If the file is not found, it prints a message indicating which file is missing."
   ]
  },
  {
   "cell_type": "code",
   "execution_count": 11,
   "metadata": {},
   "outputs": [
    {
     "name": "stdout",
     "output_type": "stream",
     "text": [
      "Match found: 768-989-9999\n"
     ]
    }
   ],
   "source": [
    "with open('test.txt', 'r') as f:\n",
    "    # Read the content of the file\n",
    "    file_content = f.read()\n",
    "\n",
    "    # Use regular expression to search for a pattern\n",
    "    match = re.search(r'\\d{3}-\\d{3}-\\d{4}', file_content)\n",
    "\n",
    "    # Check if a match is found\n",
    "    if match:\n",
    "        print(\"Match found:\", match.group())\n",
    "    else:\n",
    "        print(\"No match found.\")\n"
   ]
  },
  {
   "cell_type": "markdown",
   "metadata": {},
   "source": [
    "In this corrected version, I used the with statement to open the file. This is a good practice as it automatically closes the file when the block is exited. I also read the content of the file using f.read() before applying the regular expression with re.search. If a match is found, it prints the matched string; otherwise, it prints a message indicating that no match was found."
   ]
  },
  {
   "cell_type": "markdown",
   "metadata": {},
   "source": [
    "the folder in \n",
    "\"for folder,sub_folder,files in os.walk(dir1)\" had the starting address for all the sub_folders and files \n",
    "subfolder_path=folder+\"\\\\\"+sub_folder\n",
    "file=folder+\"\\\\\"+f"
   ]
  }
 ],
 "metadata": {
  "anaconda-cloud": {},
  "kernelspec": {
   "display_name": "Python 3 (ipykernel)",
   "language": "python",
   "name": "python3"
  },
  "language_info": {
   "codemirror_mode": {
    "name": "ipython",
    "version": 3
   },
   "file_extension": ".py",
   "mimetype": "text/x-python",
   "name": "python",
   "nbconvert_exporter": "python",
   "pygments_lexer": "ipython3",
   "version": "3.11.4"
  }
 },
 "nbformat": 4,
 "nbformat_minor": 2
}
