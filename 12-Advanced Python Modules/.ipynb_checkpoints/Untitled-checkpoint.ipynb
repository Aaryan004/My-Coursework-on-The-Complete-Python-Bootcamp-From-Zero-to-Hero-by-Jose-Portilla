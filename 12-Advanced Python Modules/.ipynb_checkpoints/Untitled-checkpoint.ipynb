{
 "cells": [
  {
   "cell_type": "code",
   "execution_count": 12,
   "id": "68511bb6",
   "metadata": {},
   "outputs": [],
   "source": [
    "import re"
   ]
  },
  {
   "cell_type": "code",
   "execution_count": 13,
   "id": "c0d0cf65",
   "metadata": {},
   "outputs": [],
   "source": [
    "text='your phone no. 325-665-8435 you phone no. is 325-665-8435'"
   ]
  },
  {
   "cell_type": "code",
   "execution_count": 4,
   "id": "94f07c21",
   "metadata": {},
   "outputs": [],
   "source": [
    "match=re.findall(r'\\d\\d\\d-\\d\\d\\d-\\d\\d\\d\\d',text)"
   ]
  },
  {
   "cell_type": "code",
   "execution_count": 5,
   "id": "3825a6ec",
   "metadata": {},
   "outputs": [
    {
     "name": "stdout",
     "output_type": "stream",
     "text": [
      "['987-654-6643', '325-665-8435']\n"
     ]
    }
   ],
   "source": [
    "print(match)"
   ]
  },
  {
   "cell_type": "code",
   "execution_count": 20,
   "id": "98e79840",
   "metadata": {},
   "outputs": [],
   "source": [
    "match=re.search(r'\\d{3}-\\d{3}-\\d{4}',text)"
   ]
  },
  {
   "cell_type": "code",
   "execution_count": 22,
   "id": "7c3d4c27",
   "metadata": {},
   "outputs": [
    {
     "data": {
      "text/plain": [
       "<re.Match object; span=(15, 27), match='325-665-8435'>"
      ]
     },
     "execution_count": 22,
     "metadata": {},
     "output_type": "execute_result"
    }
   ],
   "source": [
    "match"
   ]
  },
  {
   "cell_type": "code",
   "execution_count": 29,
   "id": "448e1d84",
   "metadata": {},
   "outputs": [
    {
     "data": {
      "text/plain": [
       "['cat', 'splat']"
      ]
     },
     "execution_count": 29,
     "metadata": {},
     "output_type": "execute_result"
    }
   ],
   "source": [
    "re.findall(r'\\S+at',\"The cat in splat\")"
   ]
  },
  {
   "cell_type": "code",
   "execution_count": 33,
   "id": "1dc35530",
   "metadata": {},
   "outputs": [
    {
     "data": {
      "text/plain": [
       "['2']"
      ]
     },
     "execution_count": 33,
     "metadata": {},
     "output_type": "execute_result"
    }
   ],
   "source": [
    "re.findall(r'\\d$',' Hell with this 2')"
   ]
  },
  {
   "cell_type": "code",
   "execution_count": 34,
   "id": "18add3b0",
   "metadata": {},
   "outputs": [
    {
     "data": {
      "text/plain": [
       "['.', ' ', ' ', ' to see ', ' how ', ' works']"
      ]
     },
     "execution_count": 34,
     "metadata": {},
     "output_type": "execute_result"
    }
   ],
   "source": [
    "re.findall(r'[^\\d]+','3.14 4 5 to see 56 how 87 works')"
   ]
  },
  {
   "cell_type": "code",
   "execution_count": 39,
   "id": "0fd81680",
   "metadata": {},
   "outputs": [
    {
     "data": {
      "text/plain": [
       "'Fuck  all    this'"
      ]
     },
     "execution_count": 39,
     "metadata": {},
     "output_type": "execute_result"
    }
   ],
   "source": [
    "' '.join(re.findall(r'[^!/?]+','Fuck! all? / this'))"
   ]
  },
  {
   "cell_type": "code",
   "execution_count": 46,
   "id": "360f121c",
   "metadata": {},
   "outputs": [],
   "source": [
    "pattern=re.compile(r'(\\d{3})-(\\d{3})-(\\w{3})(\\d+)')"
   ]
  },
  {
   "cell_type": "code",
   "execution_count": 47,
   "id": "6ead41f1",
   "metadata": {},
   "outputs": [],
   "source": [
    "results=re.search(pattern,'text here 776-897-asd8')"
   ]
  },
  {
   "cell_type": "code",
   "execution_count": 51,
   "id": "b2db9c56",
   "metadata": {},
   "outputs": [
    {
     "data": {
      "text/plain": [
       "'8'"
      ]
     },
     "execution_count": 51,
     "metadata": {},
     "output_type": "execute_result"
    }
   ],
   "source": [
    "results.group(4)"
   ]
  },
  {
   "cell_type": "code",
   "execution_count": null,
   "id": "ffabfc1b",
   "metadata": {},
   "outputs": [],
   "source": []
  }
 ],
 "metadata": {
  "kernelspec": {
   "display_name": "Python 3 (ipykernel)",
   "language": "python",
   "name": "python3"
  },
  "language_info": {
   "codemirror_mode": {
    "name": "ipython",
    "version": 3
   },
   "file_extension": ".py",
   "mimetype": "text/x-python",
   "name": "python",
   "nbconvert_exporter": "python",
   "pygments_lexer": "ipython3",
   "version": "3.11.4"
  }
 },
 "nbformat": 4,
 "nbformat_minor": 5
}
