{
 "cells": [
  {
   "cell_type": "code",
   "execution_count": 1,
   "id": "68511bb6",
   "metadata": {},
   "outputs": [],
   "source": [
    "import re"
   ]
  },
  {
   "cell_type": "code",
   "execution_count": 2,
   "id": "c0d0cf65",
   "metadata": {},
   "outputs": [],
   "source": [
    "text='your phone no. 325-665-8435 you phone no. is 325-665-8435'"
   ]
  },
  {
   "cell_type": "code",
   "execution_count": 3,
   "id": "94f07c21",
   "metadata": {},
   "outputs": [],
   "source": [
    "match=re.findall(r'\\d\\d\\d-\\d\\d\\d-\\d\\d\\d\\d',text)"
   ]
  },
  {
   "cell_type": "code",
   "execution_count": 4,
   "id": "3825a6ec",
   "metadata": {},
   "outputs": [
    {
     "name": "stdout",
     "output_type": "stream",
     "text": [
      "['325-665-8435', '325-665-8435']\n"
     ]
    }
   ],
   "source": [
    "print(match)"
   ]
  },
  {
   "cell_type": "code",
   "execution_count": 5,
   "id": "98e79840",
   "metadata": {},
   "outputs": [],
   "source": [
    "match=re.search(r'\\d{3}-\\d{3}-\\d{4}',text)"
   ]
  },
  {
   "cell_type": "code",
   "execution_count": 6,
   "id": "7c3d4c27",
   "metadata": {},
   "outputs": [
    {
     "data": {
      "text/plain": [
       "<re.Match object; span=(15, 27), match='325-665-8435'>"
      ]
     },
     "execution_count": 6,
     "metadata": {},
     "output_type": "execute_result"
    }
   ],
   "source": [
    "match"
   ]
  },
  {
   "cell_type": "code",
   "execution_count": 7,
   "id": "448e1d84",
   "metadata": {},
   "outputs": [
    {
     "data": {
      "text/plain": [
       "['cat', 'splat']"
      ]
     },
     "execution_count": 7,
     "metadata": {},
     "output_type": "execute_result"
    }
   ],
   "source": [
    "re.findall(r'\\S+at',\"The cat in splat\")"
   ]
  },
  {
   "cell_type": "code",
   "execution_count": 8,
   "id": "1dc35530",
   "metadata": {},
   "outputs": [
    {
     "data": {
      "text/plain": [
       "['2']"
      ]
     },
     "execution_count": 8,
     "metadata": {},
     "output_type": "execute_result"
    }
   ],
   "source": [
    "re.findall(r'\\d$',' Hell with this 2')"
   ]
  },
  {
   "cell_type": "code",
   "execution_count": 9,
   "id": "18add3b0",
   "metadata": {},
   "outputs": [
    {
     "data": {
      "text/plain": [
       "['.', ' ', ' ', ' to see ', ' how ', ' works']"
      ]
     },
     "execution_count": 9,
     "metadata": {},
     "output_type": "execute_result"
    }
   ],
   "source": [
    "re.findall(r'[^\\d]+','3.14 4 5 to see 56 how 87 works')"
   ]
  },
  {
   "cell_type": "code",
   "execution_count": 10,
   "id": "0fd81680",
   "metadata": {},
   "outputs": [
    {
     "data": {
      "text/plain": [
       "'Fuck  all    this'"
      ]
     },
     "execution_count": 10,
     "metadata": {},
     "output_type": "execute_result"
    }
   ],
   "source": [
    "' '.join(re.findall(r'[^!/?]+','Fuck! all? / this'))"
   ]
  },
  {
   "cell_type": "code",
   "execution_count": 11,
   "id": "360f121c",
   "metadata": {},
   "outputs": [],
   "source": [
    "pattern=re.compile(r'(\\d{3})-(\\d{3})-(\\w{3})(\\d+)')"
   ]
  },
  {
   "cell_type": "code",
   "execution_count": 12,
   "id": "6ead41f1",
   "metadata": {},
   "outputs": [],
   "source": [
    "results=re.search(pattern,'text here 776-897-asd8')"
   ]
  },
  {
   "cell_type": "code",
   "execution_count": 13,
   "id": "b2db9c56",
   "metadata": {},
   "outputs": [
    {
     "data": {
      "text/plain": [
       "'8'"
      ]
     },
     "execution_count": 13,
     "metadata": {},
     "output_type": "execute_result"
    }
   ],
   "source": [
    "results.group(4)"
   ]
  },
  {
   "cell_type": "code",
   "execution_count": 24,
   "id": "ffabfc1b",
   "metadata": {},
   "outputs": [],
   "source": [
    "text = 'Hello, would you like some catfish?'\n",
    "texttwo = \"Hello, would you like to take a catnap?\"\n",
    "textthree = \"Hello, have you seen this caterpillar?\""
   ]
  },
  {
   "cell_type": "code",
   "execution_count": 25,
   "id": "507c3efd",
   "metadata": {},
   "outputs": [
    {
     "data": {
      "text/plain": [
       "<re.Match object; span=(26, 37), match='caterpillar'>"
      ]
     },
     "execution_count": 25,
     "metadata": {},
     "output_type": "execute_result"
    }
   ],
   "source": [
    "re.search(r'cat(fish|nap|\\w+pillar)',textthree)"
   ]
  },
  {
   "cell_type": "code",
   "execution_count": 26,
   "id": "e214c7f5",
   "metadata": {},
   "outputs": [],
   "source": [
    "import time"
   ]
  },
  {
   "cell_type": "code",
   "execution_count": 27,
   "id": "93f1bf89",
   "metadata": {},
   "outputs": [],
   "source": [
    "def func_one(n):\n",
    "    return [str(num) for num in range(n)]"
   ]
  },
  {
   "cell_type": "code",
   "execution_count": 35,
   "id": "b134316f",
   "metadata": {},
   "outputs": [],
   "source": [
    "def func_two(n):\n",
    "    return list(map(str,range(n)))"
   ]
  },
  {
   "cell_type": "code",
   "execution_count": 41,
   "id": "e4d01f6a",
   "metadata": {},
   "outputs": [
    {
     "name": "stdout",
     "output_type": "stream",
     "text": [
      "0.18312644958496094\n"
     ]
    }
   ],
   "source": [
    "start_time=time.time()\n",
    "result=func_one(1000000)\n",
    "end_time=time.time()\n",
    "elapsed_time=end_time-start_time\n",
    "print(elapsed_time)"
   ]
  },
  {
   "cell_type": "code",
   "execution_count": 42,
   "id": "0d2e2ebf",
   "metadata": {},
   "outputs": [
    {
     "name": "stdout",
     "output_type": "stream",
     "text": [
      "0.25404834747314453\n"
     ]
    }
   ],
   "source": [
    "start_time=time.time()\n",
    "result2=func_two(1000000)\n",
    "end_time=time.time()\n",
    "elapsed_time=end_time-start_time\n",
    "print(elapsed_time)"
   ]
  },
  {
   "cell_type": "code",
   "execution_count": 43,
   "id": "82ef9cd1",
   "metadata": {},
   "outputs": [],
   "source": [
    "import timeit"
   ]
  },
  {
   "cell_type": "code",
   "execution_count": 44,
   "id": "46380aa8",
   "metadata": {},
   "outputs": [],
   "source": [
    "stmt1='''\n",
    "func_one(100)\n",
    "'''"
   ]
  },
  {
   "cell_type": "code",
   "execution_count": 45,
   "id": "2cd30991",
   "metadata": {},
   "outputs": [],
   "source": [
    "setup1='''\n",
    "def func_one(n):\n",
    "    return [str(num) for num in range(n)]\n",
    "'''"
   ]
  },
  {
   "cell_type": "code",
   "execution_count": 47,
   "id": "916e1a34",
   "metadata": {},
   "outputs": [
    {
     "data": {
      "text/plain": [
       "11.236673099920154"
      ]
     },
     "execution_count": 47,
     "metadata": {},
     "output_type": "execute_result"
    }
   ],
   "source": [
    "timeit.timeit(stmt1,setup1,number=1000000)"
   ]
  },
  {
   "cell_type": "code",
   "execution_count": 51,
   "id": "73da5246",
   "metadata": {},
   "outputs": [],
   "source": [
    "stmt2='''\n",
    "func_two(100)\n",
    "'''"
   ]
  },
  {
   "cell_type": "code",
   "execution_count": 54,
   "id": "9469d9ac",
   "metadata": {},
   "outputs": [],
   "source": [
    "setup2='''\n",
    "def func_two(n):\n",
    "    return list(map(str,range(n)))\n",
    "'''"
   ]
  },
  {
   "cell_type": "code",
   "execution_count": 55,
   "id": "9ccd66be",
   "metadata": {},
   "outputs": [
    {
     "data": {
      "text/plain": [
       "12.775104600004852"
      ]
     },
     "execution_count": 55,
     "metadata": {},
     "output_type": "execute_result"
    }
   ],
   "source": [
    "timeit.timeit(stmt2,setup2,number=1000000)"
   ]
  },
  {
   "cell_type": "code",
   "execution_count": 58,
   "id": "05936403",
   "metadata": {},
   "outputs": [
    {
     "name": "stdout",
     "output_type": "stream",
     "text": [
      "1.63 µs ± 207 ns per loop (mean ± std. dev. of 7 runs, 100,000 loops each)\n"
     ]
    }
   ],
   "source": [
    "%%timeit\n",
    "func_one(10)"
   ]
  },
  {
   "cell_type": "code",
   "execution_count": 59,
   "id": "3e04743b",
   "metadata": {},
   "outputs": [
    {
     "name": "stdout",
     "output_type": "stream",
     "text": [
      "1.87 µs ± 326 ns per loop (mean ± std. dev. of 7 runs, 100,000 loops each)\n"
     ]
    }
   ],
   "source": [
    "%%timeit\n",
    "func_two(10)"
   ]
  },
  {
   "cell_type": "code",
   "execution_count": 62,
   "id": "d83c06d3",
   "metadata": {},
   "outputs": [],
   "source": [
    "f=open(\"first.txt\",'w+')\n",
    "f.write(\"First file\")\n",
    "f.close()"
   ]
  },
  {
   "cell_type": "code",
   "execution_count": 63,
   "id": "a9121c24",
   "metadata": {},
   "outputs": [],
   "source": [
    "f=open(\"second.txt\",'w+')\n",
    "f.write(\"second file\")\n",
    "f.close()"
   ]
  },
  {
   "cell_type": "code",
   "execution_count": 64,
   "id": "0e9a301c",
   "metadata": {},
   "outputs": [],
   "source": [
    "import zipfile"
   ]
  },
  {
   "cell_type": "code",
   "execution_count": 65,
   "id": "03b643d7",
   "metadata": {},
   "outputs": [],
   "source": [
    "comp_file=zipfile.ZipFile('comp_file.zip','w')"
   ]
  },
  {
   "cell_type": "code",
   "execution_count": 66,
   "id": "ddab96b6",
   "metadata": {},
   "outputs": [],
   "source": [
    "comp_file.write(\"first.txt\",compress_type=zipfile.ZIP_DEFLATED)"
   ]
  },
  {
   "cell_type": "code",
   "execution_count": 67,
   "id": "047071ff",
   "metadata": {},
   "outputs": [],
   "source": [
    "comp_file.write(\"second.txt\",compress_type=zipfile.ZIP_DEFLATED)"
   ]
  },
  {
   "cell_type": "code",
   "execution_count": 68,
   "id": "8b4ff85a",
   "metadata": {},
   "outputs": [],
   "source": [
    "comp_file.close()"
   ]
  },
  {
   "cell_type": "code",
   "execution_count": 69,
   "id": "f91c21f1",
   "metadata": {},
   "outputs": [],
   "source": [
    "zip_obj=zipfile.ZipFile('comp_file.zip','r')"
   ]
  },
  {
   "cell_type": "code",
   "execution_count": 70,
   "id": "20e23832",
   "metadata": {},
   "outputs": [],
   "source": [
    "zip_obj.extractall(\"extracted_content\")"
   ]
  },
  {
   "cell_type": "code",
   "execution_count": 71,
   "id": "48a714cf",
   "metadata": {},
   "outputs": [],
   "source": [
    "import shutil"
   ]
  },
  {
   "cell_type": "code",
   "execution_count": 72,
   "id": "7e6c149d",
   "metadata": {},
   "outputs": [
    {
     "data": {
      "text/plain": [
       "'C:\\\\Users\\\\Aaryan Naithani\\\\OneDrive\\\\Desktop\\\\Python Bootcamp\\\\Complete-Python-3-Bootcamp-master\\\\12-Advanced Python Modules'"
      ]
     },
     "execution_count": 72,
     "metadata": {},
     "output_type": "execute_result"
    }
   ],
   "source": [
    "pwd"
   ]
  },
  {
   "cell_type": "code",
   "execution_count": 80,
   "id": "98e1b7a3",
   "metadata": {},
   "outputs": [],
   "source": [
    "directory_to_zip='C:\\\\Users\\\\Aaryan Naithani\\\\OneDrive\\\\Desktop\\\\Python Bootcamp\\\\Complete-Python-3-Bootcamp-master\\\\12-Advanced Python Modules\\\\extracted_content'"
   ]
  },
  {
   "cell_type": "code",
   "execution_count": 81,
   "id": "013e653c",
   "metadata": {},
   "outputs": [],
   "source": [
    "output_filename='example'"
   ]
  },
  {
   "cell_type": "code",
   "execution_count": 82,
   "id": "11cdb4c5",
   "metadata": {},
   "outputs": [
    {
     "data": {
      "text/plain": [
       "'C:\\\\Users\\\\Aaryan Naithani\\\\OneDrive\\\\Desktop\\\\Python Bootcamp\\\\Complete-Python-3-Bootcamp-master\\\\12-Advanced Python Modules\\\\example.zip'"
      ]
     },
     "execution_count": 82,
     "metadata": {},
     "output_type": "execute_result"
    }
   ],
   "source": [
    "shutil.make_archive(output_filename,'zip',directory_to_zip)"
   ]
  },
  {
   "cell_type": "code",
   "execution_count": 84,
   "id": "1bde43dc",
   "metadata": {},
   "outputs": [],
   "source": [
    "shutil.unpack_archive('example.zip','final_unzip','zip')"
   ]
  },
  {
   "cell_type": "code",
   "execution_count": null,
   "id": "fa5ac396",
   "metadata": {},
   "outputs": [],
   "source": []
  }
 ],
 "metadata": {
  "kernelspec": {
   "display_name": "Python 3 (ipykernel)",
   "language": "python",
   "name": "python3"
  },
  "language_info": {
   "codemirror_mode": {
    "name": "ipython",
    "version": 3
   },
   "file_extension": ".py",
   "mimetype": "text/x-python",
   "name": "python",
   "nbconvert_exporter": "python",
   "pygments_lexer": "ipython3",
   "version": "3.11.4"
  }
 },
 "nbformat": 4,
 "nbformat_minor": 5
}
