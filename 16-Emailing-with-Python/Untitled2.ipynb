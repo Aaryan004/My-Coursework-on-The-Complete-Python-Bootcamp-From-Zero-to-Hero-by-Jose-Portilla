{
 "cells": [
  {
   "cell_type": "code",
   "execution_count": 17,
   "id": "6b5d8c1a",
   "metadata": {},
   "outputs": [],
   "source": [
    "import imaplib"
   ]
  },
  {
   "cell_type": "code",
   "execution_count": 18,
   "id": "2c04e05c",
   "metadata": {},
   "outputs": [],
   "source": [
    "M=imaplib.IMAP4_SSL('imap.gmail.com')"
   ]
  },
  {
   "cell_type": "code",
   "execution_count": 19,
   "id": "e9d05e0b",
   "metadata": {},
   "outputs": [],
   "source": [
    "import getpass"
   ]
  },
  {
   "cell_type": "code",
   "execution_count": 23,
   "id": "f92b2e22",
   "metadata": {},
   "outputs": [
    {
     "name": "stdout",
     "output_type": "stream",
     "text": [
      "Email: ········\n",
      "Password: ········\n"
     ]
    }
   ],
   "source": [
    "email=getpass.getpass('Email: ')\n",
    "password=getpass.getpass('Password: ')"
   ]
  },
  {
   "cell_type": "code",
   "execution_count": 21,
   "id": "284ad03f",
   "metadata": {},
   "outputs": [],
   "source": [
    "#app_password='gaqo yrcf mfxa mucq'"
   ]
  },
  {
   "cell_type": "code",
   "execution_count": 24,
   "id": "3e78eb9d",
   "metadata": {},
   "outputs": [
    {
     "data": {
      "text/plain": [
       "('OK', [b'aaryannaithani@gmail.com authenticated (Success)'])"
      ]
     },
     "execution_count": 24,
     "metadata": {},
     "output_type": "execute_result"
    }
   ],
   "source": [
    "M.login(email,password)"
   ]
  },
  {
   "cell_type": "code",
   "execution_count": 25,
   "id": "ee67d645",
   "metadata": {},
   "outputs": [
    {
     "data": {
      "text/plain": [
       "('OK',\n",
       " [b'(\\\\HasNoChildren) \"/\" \"INBOX\"',\n",
       "  b'(\\\\HasNoChildren) \"/\" \"Trash\"',\n",
       "  b'(\\\\HasChildren \\\\Noselect) \"/\" \"[Gmail]\"',\n",
       "  b'(\\\\All \\\\HasNoChildren) \"/\" \"[Gmail]/All Mail\"',\n",
       "  b'(\\\\Drafts \\\\HasNoChildren) \"/\" \"[Gmail]/Drafts\"',\n",
       "  b'(\\\\HasNoChildren \\\\Important) \"/\" \"[Gmail]/Important\"',\n",
       "  b'(\\\\HasNoChildren \\\\Sent) \"/\" \"[Gmail]/Sent Mail\"',\n",
       "  b'(\\\\HasNoChildren \\\\Junk) \"/\" \"[Gmail]/Spam\"',\n",
       "  b'(\\\\Flagged \\\\HasNoChildren) \"/\" \"[Gmail]/Starred\"',\n",
       "  b'(\\\\HasNoChildren \\\\Trash) \"/\" \"[Gmail]/Trash\"'])"
      ]
     },
     "execution_count": 25,
     "metadata": {},
     "output_type": "execute_result"
    }
   ],
   "source": [
    "M.list()"
   ]
  },
  {
   "cell_type": "code",
   "execution_count": 26,
   "id": "ecfbd791",
   "metadata": {},
   "outputs": [
    {
     "data": {
      "text/plain": [
       "('OK', [b'13410'])"
      ]
     },
     "execution_count": 26,
     "metadata": {},
     "output_type": "execute_result"
    }
   ],
   "source": [
    "M.select('inbox')"
   ]
  },
  {
   "cell_type": "code",
   "execution_count": 35,
   "id": "50928baf",
   "metadata": {},
   "outputs": [],
   "source": [
    "typ, data=M.search(None, 'SUBJECT \"The_quick_brown_fox\"')"
   ]
  },
  {
   "cell_type": "code",
   "execution_count": 36,
   "id": "2607f33a",
   "metadata": {},
   "outputs": [
    {
     "data": {
      "text/plain": [
       "b'13409'"
      ]
     },
     "execution_count": 36,
     "metadata": {},
     "output_type": "execute_result"
    }
   ],
   "source": [
    "data[0]"
   ]
  },
  {
   "cell_type": "code",
   "execution_count": 37,
   "id": "99bba871",
   "metadata": {},
   "outputs": [],
   "source": [
    "result, email_data=M.fetch(data[0],'(RFC822)')"
   ]
  },
  {
   "cell_type": "code",
   "execution_count": 46,
   "id": "340929d8",
   "metadata": {},
   "outputs": [],
   "source": [
    "raw_email=email_data[0][1]"
   ]
  },
  {
   "cell_type": "code",
   "execution_count": 47,
   "id": "c8046369",
   "metadata": {},
   "outputs": [],
   "source": [
    "raw_email_string=raw_email.decode('utf-8')"
   ]
  },
  {
   "cell_type": "code",
   "execution_count": 48,
   "id": "dfe4f062",
   "metadata": {},
   "outputs": [],
   "source": [
    "import email"
   ]
  },
  {
   "cell_type": "code",
   "execution_count": 49,
   "id": "4f6ef82b",
   "metadata": {},
   "outputs": [],
   "source": [
    "email_message=email.message_from_string(raw_email_string)"
   ]
  },
  {
   "cell_type": "code",
   "execution_count": 51,
   "id": "443bb4c0",
   "metadata": {},
   "outputs": [
    {
     "name": "stdout",
     "output_type": "stream",
     "text": [
      "Bcc: aaryannaithani@gmail.com\n",
      "Return-Path: <aaryannaithani@gmail.com>\n",
      "Received: from [192.168.1.20] ([122.161.49.5])\n",
      "        by smtp.gmail.com with ESMTPSA id h24-20020a170902ac9800b001d36dbb22a9sm7773784plr.4.2023.12.25.00.49.17\n",
      "        for <aaryannaithani@gmail.com>\n",
      "        (version=TLS1_3 cipher=TLS_AES_256_GCM_SHA384 bits=256/256);\n",
      "        Mon, 25 Dec 2023 00:49:18 -0800 (PST)\n",
      "Message-ID: <6589420e.170a0220.c2ed6.45ca@mx.google.com>\n",
      "Date: Mon, 25 Dec 2023 00:49:18 -0800 (PST)\n",
      "From: aaryannaithani@gmail.com\n",
      "Subject: The_quick_brown_fox\n",
      "\n",
      "The quick brown fox is a bastard\n",
      "\n"
     ]
    }
   ],
   "source": [
    "print(email_message)"
   ]
  },
  {
   "cell_type": "code",
   "execution_count": 52,
   "id": "efde1d67",
   "metadata": {},
   "outputs": [
    {
     "name": "stdout",
     "output_type": "stream",
     "text": [
      "b'The quick brown fox is a bastard\\r\\n'\n"
     ]
    }
   ],
   "source": [
    "for part in email_message.walk():\n",
    "    \n",
    "    if part.get_content_type()=='text/plain':\n",
    "        body=part.get_payload(decode=True)\n",
    "        print(body)"
   ]
  },
  {
   "cell_type": "code",
   "execution_count": null,
   "id": "28e0ed2d",
   "metadata": {},
   "outputs": [],
   "source": [
    "#'text/plain' is for strings\n",
    "#'text/html' could be for links"
   ]
  }
 ],
 "metadata": {
  "kernelspec": {
   "display_name": "Python 3 (ipykernel)",
   "language": "python",
   "name": "python3"
  },
  "language_info": {
   "codemirror_mode": {
    "name": "ipython",
    "version": 3
   },
   "file_extension": ".py",
   "mimetype": "text/x-python",
   "name": "python",
   "nbconvert_exporter": "python",
   "pygments_lexer": "ipython3",
   "version": "3.11.4"
  }
 },
 "nbformat": 4,
 "nbformat_minor": 5
}
