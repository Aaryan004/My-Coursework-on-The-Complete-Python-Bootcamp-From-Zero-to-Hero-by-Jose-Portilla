{
 "cells": [
  {
   "cell_type": "markdown",
   "metadata": {},
   "source": [
    "___\n",
    "\n",
    "<a href='https://www.udemy.com/user/joseportilla/'><img src='../Pierian_Data_Logo.png'/></a>\n",
    "___\n",
    "<center><em>Content Copyright by Pierian Data</em></center>"
   ]
  },
  {
   "cell_type": "markdown",
   "metadata": {},
   "source": [
    "# Milestone Project 1\n",
    "## Congratulations on making it to your first milestone!\n",
    "You've already learned a ton and are ready to work on a real project.\n",
    "\n",
    "Your assignment: Create a Tic Tac Toe game. You are free to use any IDE you like.\n",
    "\n",
    "Here are the requirements:\n",
    "\n",
    "* 2 players should be able to play the game (both sitting at the same computer)\n",
    "* The board should be printed out every time a player makes a move\n",
    "* You should be able to accept input of the player position and then place a symbol on the board\n",
    "\n",
    "Feel free to use Google to help you figure anything out (but don't just Google \"Tic Tac Toe in Python\" otherwise you won't learn anything!) Keep in mind that this project can take anywhere between several hours to several days.\n",
    "\n",
    "There are 4 Jupyter Notebooks related to this assignment:\n",
    "\n",
    "* This Assignment Notebook\n",
    "* A \"Walkthrough Steps Workbook\" Notebook\n",
    "* A \"Complete Walkthrough Solution\" Notebook\n",
    "* An \"Advanced Solution\" Notebook\n",
    "\n",
    "I encourage you to just try to start the project on your own without referencing any of the notebooks. If you get stuck, check out the next lecture which is a text lecture with helpful hints and steps. If you're still stuck after that, then check out the Walkthrough Steps Workbook, which breaks up the project in steps for you to solve. Still stuck? Then check out the Complete Walkthrough Solution video for more help on approaching the project!"
   ]
  },
  {
   "cell_type": "markdown",
   "metadata": {},
   "source": [
    "There are parts of this that will be a struggle...and that is good! I have complete faith that if you have made it this far through the course you have all the tools and knowledge to tackle this project. Remember, it's totally open book, so take your time, do a little research, and remember:\n",
    "\n",
    "## HAVE FUN!"
   ]
  },
  {
   "cell_type": "code",
   "execution_count": 1,
   "metadata": {},
   "outputs": [
    {
     "name": "stdout",
     "output_type": "stream",
     "text": [
      "X           O     \n",
      "\n",
      "X     O     X     \n",
      "\n",
      "O                 \n",
      "\n",
      "Ritvik has won\n"
     ]
    }
   ],
   "source": [
    "#MY TIC-TAC-TOE GAME\n",
    "def check_win(a):\n",
    "    if((a[0][0]==a[1][1]==a[2][2]) and (a[0][0]=='X' or a[0][0]=='O')):\n",
    "        return 1\n",
    "    elif((a[0][0]==a[1][0]==a[2][0]) and (a[0][0]=='X' or a[0][0]=='O')):\n",
    "        return 1\n",
    "    elif ((a[0][1]==a[1][1]==a[2][1]) and (a[0][1]=='X' or a[0][1]=='O')):\n",
    "        return 1\n",
    "    elif ((a[0][2]==a[1][2]==a[2][2]) and (a[0][2]=='X' or a[0][2]=='O')):\n",
    "        return 1\n",
    "    elif((a[0][0]==a[0][1]==a[0][2]) and (a[0][0]=='X' or a[0][0]=='O')):\n",
    "        return 1\n",
    "    elif ((a[1][0]==a[1][1]==a[1][2]) and (a[1][0]=='X' or a[1][0]=='O')):\n",
    "        return 1\n",
    "    elif ((a[2][0]==a[2][1]==a[2][2]) and (a[2][0]=='X' or a[2][0]=='O')):\n",
    "        return 1\n",
    "    elif((a[0][2]==a[1][1]==a[2][0]) and (a[0][2]=='X' or a[0][2]=='O')):\n",
    "        return 1\n",
    "    else:\n",
    "        return 0\n",
    "def print_rows(array_2D):\n",
    "    for i in range(0, len(array_2D)):\n",
    "        for j in range(0, 3):\n",
    "            print(array_2D[i][j], end=\"     \")\n",
    "        print(\"\\n\")\n",
    "\n",
    "from IPython.display import clear_output\n",
    "print(\"Welcome, Let's Play Tic Tac Toe\")\n",
    "array_2D = [[' ', ' ', ' '], [' ', ' ', ' '], [' ', ' ', ' ']]\n",
    "game_on = True\n",
    "dict={}\n",
    "name_1=input(\"Enter Player 1 name: \")\n",
    "name_2=input(\"Enter Player 2 name: \")\n",
    "dict[1]=name_1\n",
    "dict[2]=name_2\n",
    "a = 1\n",
    "while (game_on):\n",
    "    row,column = input(f\"Enter Input, {dict[a]}  : \").split()\n",
    "    clear_output()\n",
    "    row = int(row)\n",
    "    column = int(column)\n",
    "    row -= 1\n",
    "    column -= 1\n",
    "    if(array_2D[row][column]=='X' or array_2D[row][column]=='O'):\n",
    "        print(\"You cannot enter value here\")\n",
    "        continue\n",
    "    if a == 1:\n",
    "        array_2D[row][column] = 'X'\n",
    "    else:\n",
    "        array_2D[row][column] = 'O'\n",
    "    print_rows(array_2D)\n",
    "    e = check_win(array_2D)\n",
    "    if e==1:\n",
    "        print(f\"{dict[a]} has won\")\n",
    "        game_on=False\n",
    "    a = 3 - a"
   ]
  }
 ],
 "metadata": {
  "kernelspec": {
   "display_name": "Python 3 (ipykernel)",
   "language": "python",
   "name": "python3"
  },
  "language_info": {
   "codemirror_mode": {
    "name": "ipython",
    "version": 3
   },
   "file_extension": ".py",
   "mimetype": "text/x-python",
   "name": "python",
   "nbconvert_exporter": "python",
   "pygments_lexer": "ipython3",
   "version": "3.11.4"
  }
 },
 "nbformat": 4,
 "nbformat_minor": 1
}
